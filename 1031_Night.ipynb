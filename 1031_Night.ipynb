{
  "nbformat": 4,
  "nbformat_minor": 0,
  "metadata": {
    "colab": {
      "provenance": []
    },
    "kernelspec": {
      "name": "python3",
      "display_name": "Python 3"
    },
    "language_info": {
      "name": "python"
    }
  },
  "cells": [
    {
      "cell_type": "markdown",
      "source": [
        "# file1.py"
      ],
      "metadata": {
        "id": "SMdlCohcGD8A"
      }
    },
    {
      "cell_type": "code",
      "source": [
        "# 使用 \"a\" 模式開啟檔案以將資料附加到原檔案內容的後面\n",
        "fileObject = open(\"./poem2.txt\", \"a\")\n",
        "\n",
        "# 寫入檔案，\\n 字元表示換行\n",
        "fileObject.write(\"\\n鳳凰臺上鳳凰遊，鳳去臺空江自流。\")\n",
        "fileObject.write(\"\\n吳宮花草埋幽徑，晉代衣冠成古邱。\")\n",
        "fileObject.write(\"\\n三山半落青又外，二水中分白鷺洲。\")\n",
        "fileObject.write(\"\\n總為浮雲能蔽日，長安不見使人愁。\")\n",
        "\n",
        "# 關閉檔案\n",
        "fileObject.close()"
      ],
      "metadata": {
        "id": "NlKMchbK_esB"
      },
      "execution_count": 22,
      "outputs": []
    },
    {
      "cell_type": "code",
      "source": [
        "cat poem2.txt"
      ],
      "metadata": {
        "colab": {
          "base_uri": "https://localhost:8080/"
        },
        "id": "GFkzsPg-BdtK",
        "outputId": "9e1e3b36-421c-4bf2-e018-fc69bec5aeb7"
      },
      "execution_count": 24,
      "outputs": [
        {
          "output_type": "stream",
          "name": "stdout",
          "text": [
            "\n",
            "鳳凰臺上鳳凰遊，鳳去臺空江自流。\n",
            "吳宮花草埋幽徑，晉代衣冠成古邱。\n",
            "三山半落青又外，二水中分白鷺洲。\n",
            "總為浮雲能蔽日，長安不見使人愁。"
          ]
        }
      ]
    },
    {
      "cell_type": "code",
      "source": [
        "# 使用 \"a\" 模式開啟檔案以將資料附加到原檔案內容的後面\n",
        "fileObject = open(\"./PPAP.txt\", \"a\")\n",
        "\n",
        "# 寫入檔案，\\n 字元表示換行\n",
        "fileObject.write(\"I have a pen, I have an apple\\n\")\n",
        "fileObject.write(\"Uh! Apple-pen!\\n\")\n",
        "fileObject.write(\"I have a pen, I have pineapple\\n\")\n",
        "fileObject.write(\"Uh! Pineapple-pen!\")\n",
        "\n",
        "# 關閉檔案\n",
        "fileObject.close()"
      ],
      "metadata": {
        "id": "3lKoxI2Q_34R"
      },
      "execution_count": 23,
      "outputs": []
    },
    {
      "cell_type": "code",
      "source": [
        "cat PPAP.txt"
      ],
      "metadata": {
        "colab": {
          "base_uri": "https://localhost:8080/"
        },
        "id": "egxaK-mwBq8Z",
        "outputId": "89e41c6b-d227-4533-a92a-047c9fafd928"
      },
      "execution_count": 25,
      "outputs": [
        {
          "output_type": "stream",
          "name": "stdout",
          "text": [
            "I have a pen, I have an apple\n",
            "Uh! Apple-pen!\n",
            "I have a pen, I have pineapple\n",
            "Uh! Pineapple-pen!"
          ]
        }
      ]
    },
    {
      "cell_type": "markdown",
      "source": [
        "# file2.py"
      ],
      "metadata": {
        "id": "-FYc3_gsGBV3"
      }
    },
    {
      "cell_type": "code",
      "source": [
        "def replaceSymbols(string):\n",
        "    for char in string:\n",
        "        if char in \"~!@#$%^&()[]{},+-*|/?<>'.;:\\\"\":\n",
        "            string = string.replace(char, ' ')\n",
        "    return string        \n",
        "\n",
        "def counts(string):\n",
        "    wordlist = string.split()\n",
        "    for word in wordlist:\n",
        "        if word in result:\n",
        "            result[word] = result[word] + 1\n",
        "        else:\n",
        "            result[word] = 1\n",
        "\n",
        "fileObject = open(\"PPAP.txt\", \"r\")\n",
        "song = fileObject.read()\n",
        "fileObject.close()"
      ],
      "metadata": {
        "id": "NqQ3fZwA_jzx"
      },
      "execution_count": 32,
      "outputs": []
    },
    {
      "cell_type": "code",
      "source": [
        "result = {}\n",
        "tmp = replaceSymbols(song.lower())\n",
        "print(tmp)"
      ],
      "metadata": {
        "colab": {
          "base_uri": "https://localhost:8080/"
        },
        "id": "rKdkBu1ZBxIJ",
        "outputId": "ae9d3d70-d340-4b5b-d2fc-942fcfe158cd"
      },
      "execution_count": 33,
      "outputs": [
        {
          "output_type": "stream",
          "name": "stdout",
          "text": [
            "i have a pen  i have an apple\n",
            "uh  apple pen \n",
            "i have a pen  i have pineapple\n",
            "uh  pineapple pen \n"
          ]
        }
      ]
    },
    {
      "cell_type": "code",
      "source": [
        "counts(tmp)\n",
        "print(result)"
      ],
      "metadata": {
        "colab": {
          "base_uri": "https://localhost:8080/"
        },
        "id": "ex7xTHEABxQh",
        "outputId": "bd6ede88-b0b9-4497-a5a1-931c76a08029"
      },
      "execution_count": 34,
      "outputs": [
        {
          "output_type": "stream",
          "name": "stdout",
          "text": [
            "{'i': 4, 'have': 4, 'a': 2, 'pen': 4, 'an': 1, 'apple': 2, 'uh': 2, 'pineapple': 2}\n"
          ]
        }
      ]
    },
    {
      "cell_type": "markdown",
      "source": [
        "# copyfile.py"
      ],
      "metadata": {
        "id": "kjd-bcz0GO5Y"
      }
    },
    {
      "cell_type": "code",
      "source": [
        "import os.path    #os 模組\n",
        "import sys      #sys 模組\n",
        "\n",
        "sourcefile = input(\"請輸入來源檔案名稱 (*.txt)：\")\n",
        "targetfile = input(\"請輸入目的檔案名稱 (*.txt)：\")\n",
        "\n",
        "if os.path.isfile(targetfile):\n",
        "    print(\"目的檔案已經存在，取消複製檔案！\")\n",
        "    sys.exit()\n",
        "\n",
        "fileObject1 = open(sourcefile, \"r\")\n",
        "fileObject2 = open(targetfile, \"w\")\n",
        "\n",
        "content = fileObject1.read()\n",
        "fileObject2.write(content)\n",
        "\n",
        "fileObject1.close()\n",
        "fileObject2.close()"
      ],
      "metadata": {
        "colab": {
          "base_uri": "https://localhost:8080/"
        },
        "id": "7knomENlDbhr",
        "outputId": "9717cca1-992c-4c1e-acb1-0315e66bf115"
      },
      "execution_count": 41,
      "outputs": [
        {
          "name": "stdout",
          "output_type": "stream",
          "text": [
            "請輸入來源檔案名稱 (*.txt)：poem2.txt\n",
            "請輸入目的檔案名稱 (*.txt)：poem.txt\n"
          ]
        }
      ]
    },
    {
      "cell_type": "code",
      "source": [
        "cat poem2.txt"
      ],
      "metadata": {
        "colab": {
          "base_uri": "https://localhost:8080/"
        },
        "id": "Cf5rw56YE-aJ",
        "outputId": "a30bda81-abda-4ec4-c22a-fea8376a6118"
      },
      "execution_count": 42,
      "outputs": [
        {
          "output_type": "stream",
          "name": "stdout",
          "text": [
            "\n",
            "鳳凰臺上鳳凰遊，鳳去臺空江自流。\n",
            "吳宮花草埋幽徑，晉代衣冠成古邱。\n",
            "三山半落青又外，二水中分白鷺洲。\n",
            "總為浮雲能蔽日，長安不見使人愁。"
          ]
        }
      ]
    },
    {
      "cell_type": "code",
      "source": [
        "cat poem.txt"
      ],
      "metadata": {
        "colab": {
          "base_uri": "https://localhost:8080/"
        },
        "id": "TZN3ykBjFCHR",
        "outputId": "636ead75-520b-4cfb-c8ca-49cfeb2f611c"
      },
      "execution_count": 43,
      "outputs": [
        {
          "output_type": "stream",
          "name": "stdout",
          "text": [
            "\n",
            "鳳凰臺上鳳凰遊，鳳去臺空江自流。\n",
            "吳宮花草埋幽徑，晉代衣冠成古邱。\n",
            "三山半落青又外，二水中分白鷺洲。\n",
            "總為浮雲能蔽日，長安不見使人愁。"
          ]
        }
      ]
    },
    {
      "cell_type": "markdown",
      "source": [
        "# mkdir.py"
      ],
      "metadata": {
        "id": "7UzLtTLNGc_4"
      }
    },
    {
      "cell_type": "code",
      "source": [
        "import os\n",
        "dir = \"./photo\"\n",
        "if not os.path.exists(dir):\n",
        "    os.mkdir(dir)\n",
        "else:\n",
        "    print(\"此資料夾已經存在\")"
      ],
      "metadata": {
        "id": "74aJOruxFfAy"
      },
      "execution_count": 44,
      "outputs": []
    },
    {
      "cell_type": "code",
      "source": [
        "!ls"
      ],
      "metadata": {
        "colab": {
          "base_uri": "https://localhost:8080/"
        },
        "id": "2E-hWrTTFkhJ",
        "outputId": "8f9280e6-bd42-4836-a101-aa380a4cd3c3"
      },
      "execution_count": 46,
      "outputs": [
        {
          "output_type": "stream",
          "name": "stdout",
          "text": [
            "photo  poem2.txt  poem.txt  PPAP.txt  sample_data\n"
          ]
        }
      ]
    },
    {
      "cell_type": "markdown",
      "source": [
        "# rmdir.py"
      ],
      "metadata": {
        "id": "6XEe1j5zGfZg"
      }
    },
    {
      "cell_type": "code",
      "source": [
        "import os\n",
        "dir = \"./photo\"\n",
        "if os.path.exists(dir):\n",
        "    os.rmdir(dir)\n",
        "else:\n",
        "    print(\"此資料夾不存在\")"
      ],
      "metadata": {
        "id": "f0GH-gn6FrMp"
      },
      "execution_count": 47,
      "outputs": []
    },
    {
      "cell_type": "code",
      "source": [
        "!ls"
      ],
      "metadata": {
        "colab": {
          "base_uri": "https://localhost:8080/"
        },
        "id": "7QaaaVfeFu1o",
        "outputId": "cbe521bc-0245-4f8c-e05b-9cfe1327568c"
      },
      "execution_count": 48,
      "outputs": [
        {
          "output_type": "stream",
          "name": "stdout",
          "text": [
            "poem2.txt  poem.txt  PPAP.txt  sample_data\n"
          ]
        }
      ]
    },
    {
      "cell_type": "markdown",
      "source": [
        "# remove.py"
      ],
      "metadata": {
        "id": "RT7_BblNGhn4"
      }
    },
    {
      "cell_type": "code",
      "source": [
        "import os\n",
        "file = \"./poem.txt\"\n",
        "if os.path.exists(file):\n",
        "    os.remove(file)\n",
        "else:\n",
        "    print(\"此檔案不存在\")"
      ],
      "metadata": {
        "id": "1EjLEPKcFw6R"
      },
      "execution_count": 49,
      "outputs": []
    },
    {
      "cell_type": "code",
      "source": [
        "!ls"
      ],
      "metadata": {
        "colab": {
          "base_uri": "https://localhost:8080/"
        },
        "id": "_SwVRNVBF07I",
        "outputId": "03b662d8-b8f5-4180-ac4c-bc263559a8d7"
      },
      "execution_count": 50,
      "outputs": [
        {
          "output_type": "stream",
          "name": "stdout",
          "text": [
            "poem2.txt  PPAP.txt  sample_data\n"
          ]
        }
      ]
    },
    {
      "cell_type": "markdown",
      "source": [
        "# readlines.py"
      ],
      "metadata": {
        "id": "PMaZaMIfGkJ_"
      }
    },
    {
      "cell_type": "code",
      "source": [
        "fileObject = open(\"poem2.txt\", \"r\")\n",
        "\n",
        "content = fileObject.readlines()\n",
        "for line in content:\n",
        "    print(line)\n",
        "\n",
        "fileObject.close()"
      ],
      "metadata": {
        "colab": {
          "base_uri": "https://localhost:8080/"
        },
        "id": "33dvWgk_F4Pp",
        "outputId": "ccd84891-e72f-40e6-862b-b2266115c03d"
      },
      "execution_count": 51,
      "outputs": [
        {
          "output_type": "stream",
          "name": "stdout",
          "text": [
            "\n",
            "\n",
            "鳳凰臺上鳳凰遊，鳳去臺空江自流。\n",
            "\n",
            "吳宮花草埋幽徑，晉代衣冠成古邱。\n",
            "\n",
            "三山半落青又外，二水中分白鷺洲。\n",
            "\n",
            "總為浮雲能蔽日，長安不見使人愁。\n"
          ]
        }
      ]
    },
    {
      "cell_type": "markdown",
      "source": [
        "# readline1.py"
      ],
      "metadata": {
        "id": "QGNBXaayG1ng"
      }
    },
    {
      "cell_type": "code",
      "source": [
        "fileObject = open(\"poem2.txt\", \"r\")\n",
        "\n",
        "line = fileObject.readline()\n",
        "while line != '':\n",
        "    print(line)\n",
        "    line = fileObject.readline()\n",
        "\n",
        "fileObject.close()"
      ],
      "metadata": {
        "colab": {
          "base_uri": "https://localhost:8080/"
        },
        "id": "t6r0srDeG3cf",
        "outputId": "8df5f780-7e0d-4c9a-9cb4-c84aad9140c3"
      },
      "execution_count": 52,
      "outputs": [
        {
          "output_type": "stream",
          "name": "stdout",
          "text": [
            "\n",
            "\n",
            "鳳凰臺上鳳凰遊，鳳去臺空江自流。\n",
            "\n",
            "吳宮花草埋幽徑，晉代衣冠成古邱。\n",
            "\n",
            "三山半落青又外，二水中分白鷺洲。\n",
            "\n",
            "總為浮雲能蔽日，長安不見使人愁。\n"
          ]
        }
      ]
    },
    {
      "cell_type": "markdown",
      "source": [
        "# readline2.py"
      ],
      "metadata": {
        "id": "vibMvynzHA0S"
      }
    },
    {
      "cell_type": "code",
      "source": [
        "import os.path\n",
        "\n",
        "if os.path.isfile(\"poem2.txt\"):\n",
        "    fileObject = open(\"poem2.txt\", \"r\")\n",
        "    for line in fileObject:\n",
        "        print(line)\n",
        "    fileObject.close()\n",
        "else:\n",
        "    print(\"此檔案不存在\")"
      ],
      "metadata": {
        "colab": {
          "base_uri": "https://localhost:8080/"
        },
        "id": "BN5ftn8zHBpg",
        "outputId": "70304a6a-3ecd-403f-a6d8-9cecbc00cc04"
      },
      "execution_count": 53,
      "outputs": [
        {
          "output_type": "stream",
          "name": "stdout",
          "text": [
            "\n",
            "\n",
            "鳳凰臺上鳳凰遊，鳳去臺空江自流。\n",
            "\n",
            "吳宮花草埋幽徑，晉代衣冠成古邱。\n",
            "\n",
            "三山半落青又外，二水中分白鷺洲。\n",
            "\n",
            "總為浮雲能蔽日，長安不見使人愁。\n"
          ]
        }
      ]
    }
  ]
}